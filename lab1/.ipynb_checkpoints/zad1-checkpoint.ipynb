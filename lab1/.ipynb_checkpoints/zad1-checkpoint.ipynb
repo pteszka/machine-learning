{
 "cells": [
  {
   "cell_type": "code",
   "execution_count": 1,
   "metadata": {
    "scrolled": true
   },
   "outputs": [
    {
     "data": {
      "text/html": [
       "<div>\n",
       "<style scoped>\n",
       "    .dataframe tbody tr th:only-of-type {\n",
       "        vertical-align: middle;\n",
       "    }\n",
       "\n",
       "    .dataframe tbody tr th {\n",
       "        vertical-align: top;\n",
       "    }\n",
       "\n",
       "    .dataframe thead th {\n",
       "        text-align: right;\n",
       "    }\n",
       "</style>\n",
       "<table border=\"1\" class=\"dataframe\">\n",
       "  <thead>\n",
       "    <tr style=\"text-align: right;\">\n",
       "      <th></th>\n",
       "      <th>Zmienna</th>\n",
       "      <th>Jednostka miary</th>\n",
       "      <th>Jednostka terytorialna</th>\n",
       "      <th>Wiek</th>\n",
       "      <th>Płeć</th>\n",
       "      <th>Rok</th>\n",
       "      <th>Wartość</th>\n",
       "    </tr>\n",
       "  </thead>\n",
       "  <tbody>\n",
       "    <tr>\n",
       "      <th>4</th>\n",
       "      <td>Przeciętne dalsze trwanie życia</td>\n",
       "      <td>rok</td>\n",
       "      <td>Polska</td>\n",
       "      <td>60</td>\n",
       "      <td>Kobiety</td>\n",
       "      <td>1950</td>\n",
       "      <td>17.1</td>\n",
       "    </tr>\n",
       "    <tr>\n",
       "      <th>10</th>\n",
       "      <td>Przeciętne dalsze trwanie życia</td>\n",
       "      <td>rok</td>\n",
       "      <td>Polska</td>\n",
       "      <td>60</td>\n",
       "      <td>Mężczyźni</td>\n",
       "      <td>1950</td>\n",
       "      <td>14.6</td>\n",
       "    </tr>\n",
       "    <tr>\n",
       "      <th>16</th>\n",
       "      <td>Przeciętne dalsze trwanie życia</td>\n",
       "      <td>rok</td>\n",
       "      <td>Polska</td>\n",
       "      <td>60</td>\n",
       "      <td>Kobiety</td>\n",
       "      <td>1951</td>\n",
       "      <td>16.6</td>\n",
       "    </tr>\n",
       "    <tr>\n",
       "      <th>22</th>\n",
       "      <td>Przeciętne dalsze trwanie życia</td>\n",
       "      <td>rok</td>\n",
       "      <td>Polska</td>\n",
       "      <td>60</td>\n",
       "      <td>Mężczyźni</td>\n",
       "      <td>1951</td>\n",
       "      <td>14.2</td>\n",
       "    </tr>\n",
       "    <tr>\n",
       "      <th>28</th>\n",
       "      <td>Przeciętne dalsze trwanie życia</td>\n",
       "      <td>rok</td>\n",
       "      <td>Polska</td>\n",
       "      <td>60</td>\n",
       "      <td>Kobiety</td>\n",
       "      <td>1952</td>\n",
       "      <td>16.9</td>\n",
       "    </tr>\n",
       "    <tr>\n",
       "      <th>...</th>\n",
       "      <td>...</td>\n",
       "      <td>...</td>\n",
       "      <td>...</td>\n",
       "      <td>...</td>\n",
       "      <td>...</td>\n",
       "      <td>...</td>\n",
       "      <td>...</td>\n",
       "    </tr>\n",
       "    <tr>\n",
       "      <th>802</th>\n",
       "      <td>Przeciętne dalsze trwanie życia</td>\n",
       "      <td>rok</td>\n",
       "      <td>Polska</td>\n",
       "      <td>60</td>\n",
       "      <td>Mężczyźni</td>\n",
       "      <td>2016</td>\n",
       "      <td>19.3</td>\n",
       "    </tr>\n",
       "    <tr>\n",
       "      <th>808</th>\n",
       "      <td>Przeciętne dalsze trwanie życia</td>\n",
       "      <td>rok</td>\n",
       "      <td>Polska</td>\n",
       "      <td>60</td>\n",
       "      <td>Kobiety</td>\n",
       "      <td>2017</td>\n",
       "      <td>24.3</td>\n",
       "    </tr>\n",
       "    <tr>\n",
       "      <th>814</th>\n",
       "      <td>Przeciętne dalsze trwanie życia</td>\n",
       "      <td>rok</td>\n",
       "      <td>Polska</td>\n",
       "      <td>60</td>\n",
       "      <td>Mężczyźni</td>\n",
       "      <td>2017</td>\n",
       "      <td>19.2</td>\n",
       "    </tr>\n",
       "    <tr>\n",
       "      <th>820</th>\n",
       "      <td>Przeciętne dalsze trwanie życia</td>\n",
       "      <td>rok</td>\n",
       "      <td>Polska</td>\n",
       "      <td>60</td>\n",
       "      <td>Kobiety</td>\n",
       "      <td>2018</td>\n",
       "      <td>24.2</td>\n",
       "    </tr>\n",
       "    <tr>\n",
       "      <th>826</th>\n",
       "      <td>Przeciętne dalsze trwanie życia</td>\n",
       "      <td>rok</td>\n",
       "      <td>Polska</td>\n",
       "      <td>60</td>\n",
       "      <td>Mężczyźni</td>\n",
       "      <td>2018</td>\n",
       "      <td>19.1</td>\n",
       "    </tr>\n",
       "  </tbody>\n",
       "</table>\n",
       "<p>138 rows × 7 columns</p>\n",
       "</div>"
      ],
      "text/plain": [
       "                             Zmienna Jednostka miary Jednostka terytorialna  \\\n",
       "4    Przeciętne dalsze trwanie życia             rok                 Polska   \n",
       "10   Przeciętne dalsze trwanie życia             rok                 Polska   \n",
       "16   Przeciętne dalsze trwanie życia             rok                 Polska   \n",
       "22   Przeciętne dalsze trwanie życia             rok                 Polska   \n",
       "28   Przeciętne dalsze trwanie życia             rok                 Polska   \n",
       "..                               ...             ...                    ...   \n",
       "802  Przeciętne dalsze trwanie życia             rok                 Polska   \n",
       "808  Przeciętne dalsze trwanie życia             rok                 Polska   \n",
       "814  Przeciętne dalsze trwanie życia             rok                 Polska   \n",
       "820  Przeciętne dalsze trwanie życia             rok                 Polska   \n",
       "826  Przeciętne dalsze trwanie życia             rok                 Polska   \n",
       "\n",
       "     Wiek       Płeć   Rok  Wartość  \n",
       "4      60    Kobiety  1950     17.1  \n",
       "10     60  Mężczyźni  1950     14.6  \n",
       "16     60    Kobiety  1951     16.6  \n",
       "22     60  Mężczyźni  1951     14.2  \n",
       "28     60    Kobiety  1952     16.9  \n",
       "..    ...        ...   ...      ...  \n",
       "802    60  Mężczyźni  2016     19.3  \n",
       "808    60    Kobiety  2017     24.3  \n",
       "814    60  Mężczyźni  2017     19.2  \n",
       "820    60    Kobiety  2018     24.2  \n",
       "826    60  Mężczyźni  2018     19.1  \n",
       "\n",
       "[138 rows x 7 columns]"
      ]
     },
     "execution_count": 1,
     "metadata": {},
     "output_type": "execute_result"
    }
   ],
   "source": [
    "import pandas as pd\n",
    "import numpy as np\n",
    "import matplotlib.pyplot as plt\n",
    "%matplotlib inline\n",
    "\n",
    "df = pd.read_csv('Data/przecietne_dalsze_trwanie_zycia.csv')\n",
    "\n",
    "life_exp_60yrs_old = df.loc[df['Wiek'] == 60]\n",
    "values = life_exp_60yrs_old['Wartość']\n",
    "\n",
    "life_exp_60yrs_old\n",
    "\n"
   ]
  },
  {
   "cell_type": "markdown",
   "metadata": {},
   "source": [
    "## Average remaining life expectancy"
   ]
  },
  {
   "cell_type": "code",
   "execution_count": 2,
   "metadata": {},
   "outputs": [
    {
     "data": {
      "text/html": [
       "<div>\n",
       "<style scoped>\n",
       "    .dataframe tbody tr th:only-of-type {\n",
       "        vertical-align: middle;\n",
       "    }\n",
       "\n",
       "    .dataframe tbody tr th {\n",
       "        vertical-align: top;\n",
       "    }\n",
       "\n",
       "    .dataframe thead th {\n",
       "        text-align: right;\n",
       "    }\n",
       "</style>\n",
       "<table border=\"1\" class=\"dataframe\">\n",
       "  <thead>\n",
       "    <tr style=\"text-align: right;\">\n",
       "      <th></th>\n",
       "      <th>Płeć</th>\n",
       "      <th>Rok</th>\n",
       "      <th>Wartość</th>\n",
       "    </tr>\n",
       "  </thead>\n",
       "  <tbody>\n",
       "    <tr>\n",
       "      <th>4</th>\n",
       "      <td>Kobiety</td>\n",
       "      <td>1950</td>\n",
       "      <td>17.1</td>\n",
       "    </tr>\n",
       "    <tr>\n",
       "      <th>10</th>\n",
       "      <td>Mężczyźni</td>\n",
       "      <td>1950</td>\n",
       "      <td>14.6</td>\n",
       "    </tr>\n",
       "    <tr>\n",
       "      <th>16</th>\n",
       "      <td>Kobiety</td>\n",
       "      <td>1951</td>\n",
       "      <td>16.6</td>\n",
       "    </tr>\n",
       "    <tr>\n",
       "      <th>22</th>\n",
       "      <td>Mężczyźni</td>\n",
       "      <td>1951</td>\n",
       "      <td>14.2</td>\n",
       "    </tr>\n",
       "    <tr>\n",
       "      <th>28</th>\n",
       "      <td>Kobiety</td>\n",
       "      <td>1952</td>\n",
       "      <td>16.9</td>\n",
       "    </tr>\n",
       "    <tr>\n",
       "      <th>...</th>\n",
       "      <td>...</td>\n",
       "      <td>...</td>\n",
       "      <td>...</td>\n",
       "    </tr>\n",
       "    <tr>\n",
       "      <th>802</th>\n",
       "      <td>Mężczyźni</td>\n",
       "      <td>2016</td>\n",
       "      <td>19.3</td>\n",
       "    </tr>\n",
       "    <tr>\n",
       "      <th>808</th>\n",
       "      <td>Kobiety</td>\n",
       "      <td>2017</td>\n",
       "      <td>24.3</td>\n",
       "    </tr>\n",
       "    <tr>\n",
       "      <th>814</th>\n",
       "      <td>Mężczyźni</td>\n",
       "      <td>2017</td>\n",
       "      <td>19.2</td>\n",
       "    </tr>\n",
       "    <tr>\n",
       "      <th>820</th>\n",
       "      <td>Kobiety</td>\n",
       "      <td>2018</td>\n",
       "      <td>24.2</td>\n",
       "    </tr>\n",
       "    <tr>\n",
       "      <th>826</th>\n",
       "      <td>Mężczyźni</td>\n",
       "      <td>2018</td>\n",
       "      <td>19.1</td>\n",
       "    </tr>\n",
       "  </tbody>\n",
       "</table>\n",
       "<p>138 rows × 3 columns</p>\n",
       "</div>"
      ],
      "text/plain": [
       "          Płeć   Rok  Wartość\n",
       "4      Kobiety  1950     17.1\n",
       "10   Mężczyźni  1950     14.6\n",
       "16     Kobiety  1951     16.6\n",
       "22   Mężczyźni  1951     14.2\n",
       "28     Kobiety  1952     16.9\n",
       "..         ...   ...      ...\n",
       "802  Mężczyźni  2016     19.3\n",
       "808    Kobiety  2017     24.3\n",
       "814  Mężczyźni  2017     19.2\n",
       "820    Kobiety  2018     24.2\n",
       "826  Mężczyźni  2018     19.1\n",
       "\n",
       "[138 rows x 3 columns]"
      ]
     },
     "execution_count": 2,
     "metadata": {},
     "output_type": "execute_result"
    }
   ],
   "source": [
    "life_exp_60yrs_old = life_exp_60yrs_old.drop(df.columns[[0, 1, 2,3]], axis=1)  # df.columns is zero-based pd.Index \n",
    "life_exp_60yrs_old"
   ]
  },
  {
   "cell_type": "code",
   "execution_count": 3,
   "metadata": {},
   "outputs": [
    {
     "data": {
      "text/plain": [
       "Text(0.5, 1.0, 'Average remaining life expectancy for 60yrs from 1950 to 2018')"
      ]
     },
     "execution_count": 3,
     "metadata": {},
     "output_type": "execute_result"
    },
    {
     "data": {
      "image/png": "[encoded data removed]",
      "text/plain": [
       "<Figure size 432x288 with 1 Axes>"
      ]
     },
     "metadata": {
      "needs_background": "light"
     },
     "output_type": "display_data"
    }
   ],
   "source": [
    "plt.hist(values,\n",
    "         alpha=0.5)\n",
    "plt.xlabel('Remaining years')\n",
    "plt.ylabel('Number of People')\n",
    "plt.title('Average remaining life expectancy for 60yrs from 1950 to 2018')"
   ]
  },
  {
   "cell_type": "markdown",
   "metadata": {},
   "source": [
    "## Mean"
   ]
  },
  {
   "cell_type": "code",
   "execution_count": 4,
   "metadata": {
    "scrolled": true
   },
   "outputs": [
    {
     "data": {
      "text/plain": [
       "18.263768115942028"
      ]
     },
     "execution_count": 4,
     "metadata": {},
     "output_type": "execute_result"
    }
   ],
   "source": [
    "mean = values.mean()\n",
    "mean"
   ]
  },
  {
   "cell_type": "markdown",
   "metadata": {},
   "source": [
    "## Variance"
   ]
  },
  {
   "cell_type": "code",
   "execution_count": 5,
   "metadata": {},
   "outputs": [
    {
     "data": {
      "text/plain": [
       "7.269918544377447"
      ]
     },
     "execution_count": 5,
     "metadata": {},
     "output_type": "execute_result"
    }
   ],
   "source": [
    "variance = values.var()\n",
    "variance"
   ]
  },
  {
   "cell_type": "markdown",
   "metadata": {},
   "source": [
    "## Median"
   ]
  },
  {
   "cell_type": "code",
   "execution_count": 6,
   "metadata": {},
   "outputs": [
    {
     "data": {
      "text/plain": [
       "18.049999999999997"
      ]
     },
     "execution_count": 6,
     "metadata": {},
     "output_type": "execute_result"
    }
   ],
   "source": [
    "median = values.median()\n",
    "median"
   ]
  },
  {
   "cell_type": "markdown",
   "metadata": {},
   "source": [
    "## Mode"
   ]
  },
  {
   "cell_type": "code",
   "execution_count": 7,
   "metadata": {},
   "outputs": [
    {
     "data": {
      "text/plain": [
       "15.8"
      ]
     },
     "execution_count": 7,
     "metadata": {},
     "output_type": "execute_result"
    }
   ],
   "source": [
    "mode = values.mode()[0]\n",
    "mode"
   ]
  },
  {
   "cell_type": "markdown",
   "metadata": {},
   "source": [
    "## Standard Deviation"
   ]
  },
  {
   "cell_type": "code",
   "execution_count": 8,
   "metadata": {},
   "outputs": [
    {
     "data": {
      "text/plain": [
       "2.6962786473911495"
      ]
     },
     "execution_count": 8,
     "metadata": {},
     "output_type": "execute_result"
    }
   ],
   "source": [
    "std = values.std()\n",
    "std"
   ]
  }
 ],
 "metadata": {
  "kernelspec": {
   "display_name": "Python 3",
   "language": "python",
   "name": "python3"
  },
  "language_info": {
   "codemirror_mode": {
    "name": "ipython",
    "version": 3
   },
   "file_extension": ".py",
   "mimetype": "text/x-python",
   "name": "python",
   "nbconvert_exporter": "python",
   "pygments_lexer": "ipython3",
   "version": "3.8.5"
  }
 },
 "nbformat": 4,
 "nbformat_minor": 4
}
